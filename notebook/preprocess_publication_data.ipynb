{
 "cells": [
  {
   "cell_type": "code",
   "execution_count": 181,
   "id": "3a66751a",
   "metadata": {},
   "outputs": [],
   "source": [
    "import numpy as np\n",
    "import pandas as pd\n",
    "from faker import Faker"
   ]
  },
  {
   "cell_type": "code",
   "execution_count": 182,
   "id": "81d132f5",
   "metadata": {},
   "outputs": [],
   "source": [
    "paper = pd.read_csv('../data/publication/papers.csv', sep=';')\n",
    "author = pd.read_csv('../data/publication/authors.csv', sep=',')\n",
    "paper_author = pd.read_csv('../data/publication/paper_written_by_author.csv', sep=';', dtype={'paper_id':str})"
   ]
  },
  {
   "cell_type": "code",
   "execution_count": 183,
   "id": "d66e7127",
   "metadata": {},
   "outputs": [],
   "source": [
    "author.organization = author.organization.replace('[^0-9a-zA-Z]+',' ', regex=True)\n",
    "result_df = pd.merge(pd.merge(paper_author,author, on='author_id'),paper, on='paper_id')\n",
    "result_df = result_df.rename(columns={'name': 'author'})"
   ]
  },
  {
   "cell_type": "code",
   "execution_count": 184,
   "id": "4815e274",
   "metadata": {},
   "outputs": [],
   "source": [
    "result_df = result_df.groupby('paper_id').agg({'author': lambda x: '|'.join(map(str, x)), 'title':'first', 'year':'first'}).reset_index()"
   ]
  },
  {
   "cell_type": "code",
   "execution_count": 185,
   "id": "1b925f9b",
   "metadata": {},
   "outputs": [],
   "source": [
    "keyword = pd.read_csv('../data/publication/keywords.csv')\n",
    "paper_keyword = pd.read_csv('../data/publication/paper_has_keywords.csv', dtype={'paper_id':str})"
   ]
  },
  {
   "cell_type": "code",
   "execution_count": 186,
   "id": "7eaad082",
   "metadata": {},
   "outputs": [],
   "source": [
    "result_df = pd.merge(pd.merge(paper_keyword,keyword,on='keyword_id').groupby('paper_id').agg({'keyword': lambda x: '|'.join(map(str, x))}).reset_index(),result_df, on='paper_id')"
   ]
  },
  {
   "cell_type": "code",
   "execution_count": 187,
   "id": "489b2d9e",
   "metadata": {},
   "outputs": [],
   "source": [
    "conference = pd.read_csv('../data/publication/conference.csv', sep=';')\n",
    "conference = conference.rename(columns={'name':'venue'})\n",
    "paper_conf = pd.read_csv('../data/publication/paper_published_in_conference.csv', sep=';', dtype={'paper_id':str})"
   ]
  },
  {
   "cell_type": "code",
   "execution_count": 188,
   "id": "bd1a23f9",
   "metadata": {},
   "outputs": [],
   "source": [
    "temp1 = pd.merge(pd.merge(paper_conf, conference, on='conference_id'),result_df,on='paper_id')\n",
    "temp1 = temp1.drop('conference_id', axis=1)"
   ]
  },
  {
   "cell_type": "code",
   "execution_count": 189,
   "id": "6119383c",
   "metadata": {},
   "outputs": [],
   "source": [
    "journal = pd.read_csv('../data/publication/journal.csv', sep=';')\n",
    "journal = journal.rename(columns={'name':'venue'})\n",
    "paper_jour = pd.read_csv('../data/publication/paper_published_in_journal.csv', sep=';', dtype={'paper_id':str})"
   ]
  },
  {
   "cell_type": "code",
   "execution_count": 190,
   "id": "003970dc",
   "metadata": {},
   "outputs": [],
   "source": [
    "temp2 = pd.merge(pd.merge(paper_jour, journal, on='journal_id'),result_df,on='paper_id')\n",
    "temp2 = temp2.drop('journal_id', axis=1)"
   ]
  },
  {
   "cell_type": "code",
   "execution_count": 191,
   "id": "cc113b65",
   "metadata": {},
   "outputs": [],
   "source": [
    "temp1['venue_type'] = 'Conference'\n",
    "temp2['venue_type'] = 'Journal'\n",
    "temp2['conf_type'] = None"
   ]
  },
  {
   "cell_type": "code",
   "execution_count": 192,
   "id": "0c226f02",
   "metadata": {},
   "outputs": [],
   "source": [
    "values = ['Symposium','Regular Conference','Workshop','Expert Group']\n",
    "temp1['conf_type'] = np.random.choice(values, size=len(temp1))"
   ]
  },
  {
   "cell_type": "code",
   "execution_count": 193,
   "id": "6699eff5",
   "metadata": {},
   "outputs": [],
   "source": [
    "result_df = pd.concat([temp1.iloc[:1000],temp2.iloc[:1000]])"
   ]
  },
  {
   "cell_type": "code",
   "execution_count": 194,
   "id": "e17b6465",
   "metadata": {},
   "outputs": [],
   "source": [
    "fake = Faker()\n",
    "decision = ['ACCEPTED','REJECTED']\n",
    "pub_type = ['Conference Proceeding', 'Volumne']\n",
    "p_type = ['Full Paper', 'Short Paper', 'Demo Paper', 'Poster']\n",
    "result_df['review_text'] = [fake.unique.text() for _ in range(len(result_df))]\n",
    "result_df['abstract'] = [fake.unique.text() for _ in range(len(result_df))]\n",
    "result_df['venue_city'] = [fake.city() for _ in range(len(result_df))]\n",
    "result_df['head'] = [fake.unique.name() for _ in range(len(result_df))]\n",
    "result_df['reviewer1'] = [fake.unique.name() for _ in range(len(result_df))]\n",
    "result_df['reviewer2'] = [fake.unique.name() for _ in range(len(result_df))]\n",
    "result_df['decision'] = np.random.choice(decision, size=len(result_df))\n",
    "result_df['pub_type'] = np.random.choice(pub_type, size=len(result_df))\n",
    "result_df['paper_type'] = np.random.choice(p_type, size=len(result_df))"
   ]
  },
  {
   "cell_type": "code",
   "execution_count": 195,
   "id": "5ac52665",
   "metadata": {},
   "outputs": [],
   "source": [
    "result_df.year = result_df.year.fillna(2012)\n",
    "result_df.year = result_df.year.astype(int)\n",
    "result_df.loc[result_df.paper_type == \"Poster\", \"venue_type\"] = \"Conference\""
   ]
  },
  {
   "cell_type": "code",
   "execution_count": 196,
   "id": "3b9de886",
   "metadata": {},
   "outputs": [],
   "source": [
    "result_df.to_csv('../data/rdf_instances_new.csv', index=False)"
   ]
  },
  {
   "cell_type": "code",
   "execution_count": 197,
   "id": "2229de27",
   "metadata": {},
   "outputs": [
    {
     "data": {
      "text/plain": [
       "Index(['paper_id', 'venue', 'publication', 'keyword', 'author', 'title',\n",
       "       'year', 'venue_type', 'conf_type', 'review_text', 'abstract',\n",
       "       'venue_city', 'head', 'reviewer1', 'reviewer2', 'decision', 'pub_type',\n",
       "       'paper_type'],\n",
       "      dtype='object')"
      ]
     },
     "execution_count": 197,
     "metadata": {},
     "output_type": "execute_result"
    }
   ],
   "source": [
    "result_df.columns"
   ]
  },
  {
   "cell_type": "code",
   "execution_count": 203,
   "id": "9580eafc",
   "metadata": {},
   "outputs": [
    {
     "name": "stdout",
     "output_type": "stream",
     "text": [
      "False\n",
      "False\n",
      "False\n",
      "False\n",
      "False\n",
      "False\n",
      "False\n",
      "False\n",
      "True\n",
      "False\n",
      "False\n",
      "False\n",
      "False\n",
      "False\n",
      "False\n",
      "False\n",
      "False\n"
     ]
    }
   ],
   "source": [
    "print(any(result_df.paper_id.isnull()))\n",
    "print(any(result_df.venue.isnull()))\n",
    "print(any(result_df.publication.isnull()))\n",
    "print(any(result_df.keyword.isnull()))\n",
    "print(any(result_df.author.isnull()))\n",
    "print(any(result_df.title.isnull()))\n",
    "print(any(result_df.year.isnull()))\n",
    "print(any(result_df.venue_type.isnull()))\n",
    "print(any(result_df.conf_type.isnull()))\n",
    "print(any(result_df.review_text.isnull()))\n",
    "print(any(result_df.abstract.isnull()))\n",
    "print(any(result_df.venue_city.isnull()))\n",
    "print(any(result_df['head'].isnull()))\n",
    "print(any(result_df.reviewer1.isnull()))\n",
    "print(any(result_df.reviewer2.isnull()))\n",
    "print(any(result_df.decision.isnull()))\n",
    "print(any(result_df.pub_type.isnull()))"
   ]
  },
  {
   "cell_type": "code",
   "execution_count": 207,
   "id": "093c65fa",
   "metadata": {},
   "outputs": [
    {
     "data": {
      "text/plain": [
       "<bound method IndexOpsMixin.value_counts of 0               Symposium\n",
       "1            Expert Group\n",
       "2      Regular Conference\n",
       "3               Symposium\n",
       "4                Workshop\n",
       "              ...        \n",
       "995                  None\n",
       "996                  None\n",
       "997                  None\n",
       "998                  None\n",
       "999                  None\n",
       "Name: conf_type, Length: 2000, dtype: object>"
      ]
     },
     "execution_count": 207,
     "metadata": {},
     "output_type": "execute_result"
    }
   ],
   "source": []
  },
  {
   "cell_type": "code",
   "execution_count": null,
   "id": "74668641",
   "metadata": {},
   "outputs": [],
   "source": []
  }
 ],
 "metadata": {
  "kernelspec": {
   "display_name": "Python 3",
   "language": "python",
   "name": "python3"
  },
  "language_info": {
   "codemirror_mode": {
    "name": "ipython",
    "version": 3
   },
   "file_extension": ".py",
   "mimetype": "text/x-python",
   "name": "python",
   "nbconvert_exporter": "python",
   "pygments_lexer": "ipython3",
   "version": "3.8.8"
  }
 },
 "nbformat": 4,
 "nbformat_minor": 5
}
