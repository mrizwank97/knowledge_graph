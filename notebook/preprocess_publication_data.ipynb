{
 "cells": [
  {
   "cell_type": "code",
   "execution_count": 237,
   "id": "3a66751a",
   "metadata": {},
   "outputs": [],
   "source": [
    "import numpy as np\n",
    "import pandas as pd\n",
    "from faker import Faker"
   ]
  },
  {
   "cell_type": "code",
   "execution_count": 238,
   "id": "81d132f5",
   "metadata": {},
   "outputs": [],
   "source": [
    "paper = pd.read_csv('../data/publication/papers.csv', sep=';')\n",
    "author = pd.read_csv('../data/publication/authors.csv', sep=';')\n",
    "paper_author = pd.read_csv('../data/publication/paper_written_by_author.csv', sep=';', dtype={'paper_id':str})"
   ]
  },
  {
   "cell_type": "code",
   "execution_count": 239,
   "id": "d66e7127",
   "metadata": {},
   "outputs": [],
   "source": [
    "result_df = pd.merge(pd.merge(paper_author,author, on='author_id'),paper, on='paper_id')\n",
    "result_df = result_df.rename(columns={'name': 'author'})"
   ]
  },
  {
   "cell_type": "code",
   "execution_count": 240,
   "id": "4815e274",
   "metadata": {},
   "outputs": [],
   "source": [
    "result_df = result_df.groupby('paper_id').agg({'author': lambda x: '|'.join(map(str, x)), 'title':'first', 'year':'first'}).reset_index()"
   ]
  },
  {
   "cell_type": "code",
   "execution_count": 241,
   "id": "1b925f9b",
   "metadata": {},
   "outputs": [],
   "source": [
    "keyword = pd.read_csv('../data/publication/keywords.csv')\n",
    "paper_keyword = pd.read_csv('../data/publication/paper_has_keywords.csv', dtype={'paper_id':str})"
   ]
  },
  {
   "cell_type": "code",
   "execution_count": 242,
   "id": "7eaad082",
   "metadata": {},
   "outputs": [],
   "source": [
    "result_df = pd.merge(pd.merge(paper_keyword,keyword,on='keyword_id').groupby('paper_id').agg({'keyword': lambda x: '|'.join(map(str, x))}).reset_index(),result_df, on='paper_id')"
   ]
  },
  {
   "cell_type": "code",
   "execution_count": 243,
   "id": "489b2d9e",
   "metadata": {},
   "outputs": [],
   "source": [
    "conference = pd.read_csv('../data/publication/conference.csv', sep=';')\n",
    "conference = conference.rename(columns={'name':'venue'})\n",
    "paper_conf = pd.read_csv('../data/publication/paper_published_in_conference.csv', sep=';', dtype={'paper_id':str})"
   ]
  },
  {
   "cell_type": "code",
   "execution_count": 244,
   "id": "bd1a23f9",
   "metadata": {},
   "outputs": [],
   "source": [
    "temp1 = pd.merge(pd.merge(paper_conf, conference, on='conference_id'),result_df,on='paper_id')\n",
    "temp1 = temp1.drop('conference_id', axis=1)"
   ]
  },
  {
   "cell_type": "code",
   "execution_count": 245,
   "id": "6119383c",
   "metadata": {},
   "outputs": [],
   "source": [
    "journal = pd.read_csv('../data/publication/journal.csv', sep=';')\n",
    "journal = journal.rename(columns={'name':'venue'})\n",
    "paper_jour = pd.read_csv('../data/publication/paper_published_in_journal.csv', sep=';', dtype={'paper_id':str})"
   ]
  },
  {
   "cell_type": "code",
   "execution_count": 246,
   "id": "003970dc",
   "metadata": {},
   "outputs": [],
   "source": [
    "temp2 = pd.merge(pd.merge(paper_jour, journal, on='journal_id'),result_df,on='paper_id')\n",
    "temp2 = temp2.drop('journal_id', axis=1)"
   ]
  },
  {
   "cell_type": "code",
   "execution_count": 247,
   "id": "cc113b65",
   "metadata": {},
   "outputs": [],
   "source": [
    "temp1['venue_type'] = 'Conference'\n",
    "temp2['venue_type'] = 'Journal'\n",
    "temp2['conf_type'] = None"
   ]
  },
  {
   "cell_type": "code",
   "execution_count": 248,
   "id": "0c226f02",
   "metadata": {},
   "outputs": [],
   "source": [
    "values = ['Symposium','Regular Conference','Workshop','Expert Group']\n",
    "temp1['conf_type'] = np.random.choice(values, size=len(temp1))"
   ]
  },
  {
   "cell_type": "code",
   "execution_count": 249,
   "id": "6699eff5",
   "metadata": {},
   "outputs": [],
   "source": [
    "result_df = pd.concat([temp1,temp2])"
   ]
  },
  {
   "cell_type": "code",
   "execution_count": 250,
   "id": "e17b6465",
   "metadata": {},
   "outputs": [],
   "source": [
    "fake = Faker()\n",
    "decision = ['ACCEPTED','REJECTED']\n",
    "p_type = ['Full Paper', 'Short Paper', 'Demo Paper', 'Poster']\n",
    "result_df['review_text'] = [fake.text() for _ in range(len(result_df))]\n",
    "result_df['head'] = [fake.unique.name() for _ in range(len(result_df))]\n",
    "result_df['reviewer1'] = [fake.unique.name() for _ in range(len(result_df))]\n",
    "result_df['reviewer2'] = [fake.unique.name() for _ in range(len(result_df))]\n",
    "result_df['decision'] = np.random.choice(decision, size=len(result_df))\n",
    "result_df['paper_type'] = np.random.choice(p_type, size=len(result_df))"
   ]
  },
  {
   "cell_type": "code",
   "execution_count": 253,
   "id": "3b9de886",
   "metadata": {},
   "outputs": [],
   "source": [
    "result_df.to_csv('../data/rdf_instances.csv', index=False)"
   ]
  },
  {
   "cell_type": "code",
   "execution_count": null,
   "id": "2229de27",
   "metadata": {},
   "outputs": [],
   "source": []
  },
  {
   "cell_type": "code",
   "execution_count": null,
   "id": "76c35a1b",
   "metadata": {},
   "outputs": [],
   "source": []
  }
 ],
 "metadata": {
  "kernelspec": {
   "display_name": "Python 3",
   "language": "python",
   "name": "python3"
  },
  "language_info": {
   "codemirror_mode": {
    "name": "ipython",
    "version": 3
   },
   "file_extension": ".py",
   "mimetype": "text/x-python",
   "name": "python",
   "nbconvert_exporter": "python",
   "pygments_lexer": "ipython3",
   "version": "3.8.8"
  }
 },
 "nbformat": 4,
 "nbformat_minor": 5
}
